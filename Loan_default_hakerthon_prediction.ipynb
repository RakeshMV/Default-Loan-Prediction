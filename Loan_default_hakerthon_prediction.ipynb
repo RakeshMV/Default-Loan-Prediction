{
 "cells": [
  {
   "cell_type": "markdown",
   "id": "589f6529-8880-4873-8187-262d4e2f62c6",
   "metadata": {},
   "source": [
    "## Problem Statement\n",
    "MyHom is a finance company that lends housing loans at the best and most affordable interest rates to customers. In recent times, the company incurred heavy losses due to loan defaults. Most applicants failed to repay the loan as per the promissory note.\n",
    "\n",
    "In order to avoid such losses, the company has decided to build a system for identifying the loan defaulters automatically based on data. This will help the company to identify the potential applicants and ensure the smooth running of the entire process.\n",
    "\n",
    "Now, the company challenges the Data Science community to build a smart AI system to predict the probability of an applicant defaulting the loan or not in the future."
   ]
  },
  {
   "cell_type": "code",
   "execution_count": 68,
   "id": "2b3d3f23-b798-4cb2-bf33-5470c17d51d3",
   "metadata": {},
   "outputs": [],
   "source": [
    "#importing librarys from sklearn,pandas,imblearn and xgboost\n",
    "import numpy as np\n",
    "import pandas as pd\n",
    "import matplotlib.pyplot as plt\n",
    "import seaborn as sns\n",
    "#sklearn librarys\n",
    "from sklearn import preprocessing\n",
    "from sklearn.model_selection import train_test_split\n",
    "from sklearn.linear_model import LogisticRegression\n",
    "from sklearn.ensemble import RandomForestClassifier\n",
    "from sklearn.metrics import classification_report\n",
    "from sklearn.metrics import confusion_matrix\n",
    "from sklearn.metrics import roc_curve\n",
    "import sklearn.metrics as metrics\n",
    "from sklearn.metrics import roc_auc_score\n",
    "from sklearn.metrics import accuracy_score\n",
    "#pands,imblearn,xgboost librarys\n",
    "from pandas.api.types import is_string_dtype\n",
    "from imblearn.over_sampling import SMOTE\n",
    "#ignoring the warnings\n",
    "import warnings\n",
    "warnings.filterwarnings(\"ignore\")\n",
    "#pd.set option is use to maximum rows and columns\n",
    "pd.set_option('display.max_rows',100)\n",
    "pd.set_option('display.max_columns',100)"
   ]
  },
  {
   "cell_type": "markdown",
   "id": "467900d0-48d3-427a-bc00-0e02c24500b9",
   "metadata": {},
   "source": [
    "## Read the train data"
   ]
  },
  {
   "cell_type": "code",
   "execution_count": 69,
   "id": "feb7a54e-c39b-4c2a-9b2f-a07dc4f9e846",
   "metadata": {},
   "outputs": [
    {
     "data": {
      "text/html": [
       "<div>\n",
       "<style scoped>\n",
       "    .dataframe tbody tr th:only-of-type {\n",
       "        vertical-align: middle;\n",
       "    }\n",
       "\n",
       "    .dataframe tbody tr th {\n",
       "        vertical-align: top;\n",
       "    }\n",
       "\n",
       "    .dataframe thead th {\n",
       "        text-align: right;\n",
       "    }\n",
       "</style>\n",
       "<table border=\"1\" class=\"dataframe\">\n",
       "  <thead>\n",
       "    <tr style=\"text-align: right;\">\n",
       "      <th></th>\n",
       "      <th>loan_id</th>\n",
       "      <th>age</th>\n",
       "      <th>education</th>\n",
       "      <th>proof_submitted</th>\n",
       "      <th>loan_amount</th>\n",
       "      <th>asset_cost</th>\n",
       "      <th>no_of_loans</th>\n",
       "      <th>no_of_curr_loans</th>\n",
       "      <th>last_delinq_none</th>\n",
       "      <th>loan_default</th>\n",
       "    </tr>\n",
       "  </thead>\n",
       "  <tbody>\n",
       "    <tr>\n",
       "      <th>0</th>\n",
       "      <td>1</td>\n",
       "      <td>27</td>\n",
       "      <td>1.0</td>\n",
       "      <td>Aadhar</td>\n",
       "      <td>504264</td>\n",
       "      <td>820920</td>\n",
       "      <td>2</td>\n",
       "      <td>2</td>\n",
       "      <td>0</td>\n",
       "      <td>0</td>\n",
       "    </tr>\n",
       "    <tr>\n",
       "      <th>1</th>\n",
       "      <td>2</td>\n",
       "      <td>48</td>\n",
       "      <td>1.0</td>\n",
       "      <td>Aadhar</td>\n",
       "      <td>728556</td>\n",
       "      <td>831444</td>\n",
       "      <td>6</td>\n",
       "      <td>2</td>\n",
       "      <td>0</td>\n",
       "      <td>0</td>\n",
       "    </tr>\n",
       "    <tr>\n",
       "      <th>2</th>\n",
       "      <td>3</td>\n",
       "      <td>30</td>\n",
       "      <td>2.0</td>\n",
       "      <td>VoterID</td>\n",
       "      <td>642936</td>\n",
       "      <td>826092</td>\n",
       "      <td>0</td>\n",
       "      <td>0</td>\n",
       "      <td>0</td>\n",
       "      <td>1</td>\n",
       "    </tr>\n",
       "    <tr>\n",
       "      <th>3</th>\n",
       "      <td>4</td>\n",
       "      <td>28</td>\n",
       "      <td>1.0</td>\n",
       "      <td>Aadhar</td>\n",
       "      <td>746556</td>\n",
       "      <td>930924</td>\n",
       "      <td>0</td>\n",
       "      <td>0</td>\n",
       "      <td>0</td>\n",
       "      <td>0</td>\n",
       "    </tr>\n",
       "    <tr>\n",
       "      <th>4</th>\n",
       "      <td>5</td>\n",
       "      <td>29</td>\n",
       "      <td>1.0</td>\n",
       "      <td>Aadhar</td>\n",
       "      <td>1139880</td>\n",
       "      <td>1902000</td>\n",
       "      <td>0</td>\n",
       "      <td>0</td>\n",
       "      <td>0</td>\n",
       "      <td>0</td>\n",
       "    </tr>\n",
       "  </tbody>\n",
       "</table>\n",
       "</div>"
      ],
      "text/plain": [
       "   loan_id  age  education proof_submitted  loan_amount  asset_cost  \\\n",
       "0        1   27        1.0          Aadhar       504264      820920   \n",
       "1        2   48        1.0          Aadhar       728556      831444   \n",
       "2        3   30        2.0         VoterID       642936      826092   \n",
       "3        4   28        1.0          Aadhar       746556      930924   \n",
       "4        5   29        1.0          Aadhar      1139880     1902000   \n",
       "\n",
       "   no_of_loans  no_of_curr_loans  last_delinq_none  loan_default  \n",
       "0            2                 2                 0             0  \n",
       "1            6                 2                 0             0  \n",
       "2            0                 0                 0             1  \n",
       "3            0                 0                 0             0  \n",
       "4            0                 0                 0             0  "
      ]
     },
     "execution_count": 69,
     "metadata": {},
     "output_type": "execute_result"
    }
   ],
   "source": [
    "#reading data\n",
    "train= pd.read_csv(\"train_LZV4RXX.csv\")\n",
    "train.head()"
   ]
  },
  {
   "cell_type": "code",
   "execution_count": 70,
   "id": "7c52f965-be54-4f90-ab55-00f1a2613cd5",
   "metadata": {},
   "outputs": [
    {
     "data": {
      "text/plain": [
       "(7000, 10)"
      ]
     },
     "execution_count": 70,
     "metadata": {},
     "output_type": "execute_result"
    }
   ],
   "source": [
    "#shape of data\n",
    "train.shape"
   ]
  },
  {
   "cell_type": "code",
   "execution_count": 71,
   "id": "9a496464-9f4e-4c81-8bb5-8bb67805d616",
   "metadata": {},
   "outputs": [
    {
     "name": "stdout",
     "output_type": "stream",
     "text": [
      "<class 'pandas.core.frame.DataFrame'>\n",
      "RangeIndex: 7000 entries, 0 to 6999\n",
      "Data columns (total 10 columns):\n",
      " #   Column            Non-Null Count  Dtype  \n",
      "---  ------            --------------  -----  \n",
      " 0   loan_id           7000 non-null   int64  \n",
      " 1   age               7000 non-null   int64  \n",
      " 2   education         6755 non-null   float64\n",
      " 3   proof_submitted   7000 non-null   object \n",
      " 4   loan_amount       7000 non-null   int64  \n",
      " 5   asset_cost        7000 non-null   int64  \n",
      " 6   no_of_loans       7000 non-null   int64  \n",
      " 7   no_of_curr_loans  7000 non-null   int64  \n",
      " 8   last_delinq_none  7000 non-null   int64  \n",
      " 9   loan_default      7000 non-null   int64  \n",
      "dtypes: float64(1), int64(8), object(1)\n",
      "memory usage: 547.0+ KB\n"
     ]
    }
   ],
   "source": [
    "#checking data type of features\n",
    "train.info()"
   ]
  },
  {
   "cell_type": "markdown",
   "id": "22ea067f-8a77-49d0-9ed9-4de56e4bc828",
   "metadata": {},
   "source": [
    "#  checking for null values"
   ]
  },
  {
   "cell_type": "code",
   "execution_count": 72,
   "id": "4ba242e1-b539-4652-89fc-7f6104fff790",
   "metadata": {},
   "outputs": [
    {
     "data": {
      "text/plain": [
       "loan_id               0\n",
       "age                   0\n",
       "education           245\n",
       "proof_submitted       0\n",
       "loan_amount           0\n",
       "asset_cost            0\n",
       "no_of_loans           0\n",
       "no_of_curr_loans      0\n",
       "last_delinq_none      0\n",
       "loan_default          0\n",
       "dtype: int64"
      ]
     },
     "execution_count": 72,
     "metadata": {},
     "output_type": "execute_result"
    }
   ],
   "source": [
    "train.isnull().sum()"
   ]
  },
  {
   "cell_type": "code",
   "execution_count": 73,
   "id": "4c9a0eb5-5de5-4a91-b53d-ccf03f2e1468",
   "metadata": {},
   "outputs": [
    {
     "data": {
      "text/plain": [
       "3.5000000000000004"
      ]
     },
     "execution_count": 73,
     "metadata": {},
     "output_type": "execute_result"
    }
   ],
   "source": [
    "#finding percent of null values\n",
    "Null_values_percentage=(train.isnull().sum().sum()/len(train))*100\n",
    "Null_values_percentage"
   ]
  },
  {
   "cell_type": "code",
   "execution_count": 74,
   "id": "769446d0-7d28-40a0-88db-51bcf2887efa",
   "metadata": {},
   "outputs": [],
   "source": [
    "#computing null values of catogoric features with mode\n",
    "train['education'].fillna(train['education'].mode()[0], inplace=True)"
   ]
  },
  {
   "cell_type": "code",
   "execution_count": 75,
   "id": "35ba880d-df6f-4160-915b-e0bd9296d20c",
   "metadata": {},
   "outputs": [
    {
     "data": {
      "text/plain": [
       "loan_id             0\n",
       "age                 0\n",
       "education           0\n",
       "proof_submitted     0\n",
       "loan_amount         0\n",
       "asset_cost          0\n",
       "no_of_loans         0\n",
       "no_of_curr_loans    0\n",
       "last_delinq_none    0\n",
       "loan_default        0\n",
       "dtype: int64"
      ]
     },
     "execution_count": 75,
     "metadata": {},
     "output_type": "execute_result"
    }
   ],
   "source": [
    "train.isnull().sum()"
   ]
  },
  {
   "cell_type": "code",
   "execution_count": 76,
   "id": "e8b12706-0103-45d0-8997-a87853b9a0b3",
   "metadata": {},
   "outputs": [
    {
     "data": {
      "text/plain": [
       "Index(['proof_submitted'], dtype='object')"
      ]
     },
     "execution_count": 76,
     "metadata": {},
     "output_type": "execute_result"
    }
   ],
   "source": [
    "train_categoric = train.select_dtypes(include = object)\n",
    "train_categoric.columns"
   ]
  },
  {
   "cell_type": "code",
   "execution_count": 77,
   "id": "4f7414a3-392a-46c9-a86d-d0e685622d93",
   "metadata": {},
   "outputs": [
    {
     "data": {
      "text/plain": [
       "Index(['loan_id', 'age', 'education', 'loan_amount', 'asset_cost',\n",
       "       'no_of_loans', 'no_of_curr_loans', 'last_delinq_none', 'loan_default'],\n",
       "      dtype='object')"
      ]
     },
     "execution_count": 77,
     "metadata": {},
     "output_type": "execute_result"
    }
   ],
   "source": [
    "train_numeric = train.select_dtypes(include=np.number)\n",
    "train_numeric.columns"
   ]
  },
  {
   "cell_type": "code",
   "execution_count": 78,
   "id": "3c1f7dc3-88cb-4519-87f4-392bc3c62b90",
   "metadata": {},
   "outputs": [],
   "source": [
    "#removing Unnecessary column from data set \n",
    "train=train.drop(['loan_id'],axis=1)"
   ]
  },
  {
   "cell_type": "code",
   "execution_count": 79,
   "id": "3d40a8b6-3492-4546-93c7-963ca5a5d789",
   "metadata": {},
   "outputs": [
    {
     "data": {
      "text/plain": [
       "<function matplotlib.pyplot.show(close=None, block=None)>"
      ]
     },
     "execution_count": 79,
     "metadata": {},
     "output_type": "execute_result"
    },
    {
     "data": {
      "image/png": "[encoded data removed]",
      "text/plain": [
       "<Figure size 2160x1080 with 9 Axes>"
      ]
     },
     "metadata": {
      "needs_background": "light"
     },
     "output_type": "display_data"
    }
   ],
   "source": [
    "#ploting histogram to check distribution of data\n",
    "train.hist( color = \"orange\",figsize=([30,15]))\n",
    "plt.show"
   ]
  },
  {
   "cell_type": "markdown",
   "id": "1c3e17fe-1893-4448-b466-6482c78dd2b3",
   "metadata": {},
   "source": [
    "# finding co-relattoon"
   ]
  },
  {
   "cell_type": "code",
   "execution_count": 80,
   "id": "2803d604-9252-4111-87bf-635a76a15271",
   "metadata": {},
   "outputs": [
    {
     "data": {
      "text/html": [
       "<div>\n",
       "<style scoped>\n",
       "    .dataframe tbody tr th:only-of-type {\n",
       "        vertical-align: middle;\n",
       "    }\n",
       "\n",
       "    .dataframe tbody tr th {\n",
       "        vertical-align: top;\n",
       "    }\n",
       "\n",
       "    .dataframe thead th {\n",
       "        text-align: right;\n",
       "    }\n",
       "</style>\n",
       "<table border=\"1\" class=\"dataframe\">\n",
       "  <thead>\n",
       "    <tr style=\"text-align: right;\">\n",
       "      <th></th>\n",
       "      <th>age</th>\n",
       "      <th>education</th>\n",
       "      <th>loan_amount</th>\n",
       "      <th>asset_cost</th>\n",
       "      <th>no_of_loans</th>\n",
       "      <th>no_of_curr_loans</th>\n",
       "      <th>last_delinq_none</th>\n",
       "      <th>loan_default</th>\n",
       "    </tr>\n",
       "  </thead>\n",
       "  <tbody>\n",
       "    <tr>\n",
       "      <th>age</th>\n",
       "      <td>1.000000</td>\n",
       "      <td>0.058155</td>\n",
       "      <td>-0.058011</td>\n",
       "      <td>-0.122741</td>\n",
       "      <td>0.193026</td>\n",
       "      <td>0.184503</td>\n",
       "      <td>0.050325</td>\n",
       "      <td>-0.029571</td>\n",
       "    </tr>\n",
       "    <tr>\n",
       "      <th>education</th>\n",
       "      <td>0.058155</td>\n",
       "      <td>1.000000</td>\n",
       "      <td>0.000562</td>\n",
       "      <td>0.089290</td>\n",
       "      <td>0.020395</td>\n",
       "      <td>-0.002614</td>\n",
       "      <td>0.023521</td>\n",
       "      <td>0.039905</td>\n",
       "    </tr>\n",
       "    <tr>\n",
       "      <th>loan_amount</th>\n",
       "      <td>-0.058011</td>\n",
       "      <td>0.000562</td>\n",
       "      <td>1.000000</td>\n",
       "      <td>0.735176</td>\n",
       "      <td>0.010867</td>\n",
       "      <td>0.014788</td>\n",
       "      <td>-0.009412</td>\n",
       "      <td>0.115736</td>\n",
       "    </tr>\n",
       "    <tr>\n",
       "      <th>asset_cost</th>\n",
       "      <td>-0.122741</td>\n",
       "      <td>0.089290</td>\n",
       "      <td>0.735176</td>\n",
       "      <td>1.000000</td>\n",
       "      <td>-0.052643</td>\n",
       "      <td>-0.054021</td>\n",
       "      <td>-0.023489</td>\n",
       "      <td>0.048020</td>\n",
       "    </tr>\n",
       "    <tr>\n",
       "      <th>no_of_loans</th>\n",
       "      <td>0.193026</td>\n",
       "      <td>0.020395</td>\n",
       "      <td>0.010867</td>\n",
       "      <td>-0.052643</td>\n",
       "      <td>1.000000</td>\n",
       "      <td>0.774705</td>\n",
       "      <td>0.235024</td>\n",
       "      <td>-0.045738</td>\n",
       "    </tr>\n",
       "    <tr>\n",
       "      <th>no_of_curr_loans</th>\n",
       "      <td>0.184503</td>\n",
       "      <td>-0.002614</td>\n",
       "      <td>0.014788</td>\n",
       "      <td>-0.054021</td>\n",
       "      <td>0.774705</td>\n",
       "      <td>1.000000</td>\n",
       "      <td>0.272716</td>\n",
       "      <td>-0.057306</td>\n",
       "    </tr>\n",
       "    <tr>\n",
       "      <th>last_delinq_none</th>\n",
       "      <td>0.050325</td>\n",
       "      <td>0.023521</td>\n",
       "      <td>-0.009412</td>\n",
       "      <td>-0.023489</td>\n",
       "      <td>0.235024</td>\n",
       "      <td>0.272716</td>\n",
       "      <td>1.000000</td>\n",
       "      <td>0.014772</td>\n",
       "    </tr>\n",
       "    <tr>\n",
       "      <th>loan_default</th>\n",
       "      <td>-0.029571</td>\n",
       "      <td>0.039905</td>\n",
       "      <td>0.115736</td>\n",
       "      <td>0.048020</td>\n",
       "      <td>-0.045738</td>\n",
       "      <td>-0.057306</td>\n",
       "      <td>0.014772</td>\n",
       "      <td>1.000000</td>\n",
       "    </tr>\n",
       "  </tbody>\n",
       "</table>\n",
       "</div>"
      ],
      "text/plain": [
       "                       age  education  loan_amount  asset_cost  no_of_loans  \\\n",
       "age               1.000000   0.058155    -0.058011   -0.122741     0.193026   \n",
       "education         0.058155   1.000000     0.000562    0.089290     0.020395   \n",
       "loan_amount      -0.058011   0.000562     1.000000    0.735176     0.010867   \n",
       "asset_cost       -0.122741   0.089290     0.735176    1.000000    -0.052643   \n",
       "no_of_loans       0.193026   0.020395     0.010867   -0.052643     1.000000   \n",
       "no_of_curr_loans  0.184503  -0.002614     0.014788   -0.054021     0.774705   \n",
       "last_delinq_none  0.050325   0.023521    -0.009412   -0.023489     0.235024   \n",
       "loan_default     -0.029571   0.039905     0.115736    0.048020    -0.045738   \n",
       "\n",
       "                  no_of_curr_loans  last_delinq_none  loan_default  \n",
       "age                       0.184503          0.050325     -0.029571  \n",
       "education                -0.002614          0.023521      0.039905  \n",
       "loan_amount               0.014788         -0.009412      0.115736  \n",
       "asset_cost               -0.054021         -0.023489      0.048020  \n",
       "no_of_loans               0.774705          0.235024     -0.045738  \n",
       "no_of_curr_loans          1.000000          0.272716     -0.057306  \n",
       "last_delinq_none          0.272716          1.000000      0.014772  \n",
       "loan_default             -0.057306          0.014772      1.000000  "
      ]
     },
     "execution_count": 80,
     "metadata": {},
     "output_type": "execute_result"
    }
   ],
   "source": [
    "#checking co-realation of data\n",
    "corr=train.corr()\n",
    "corr"
   ]
  },
  {
   "cell_type": "code",
   "execution_count": 81,
   "id": "75994038-bd27-4aa3-a51d-1ed2e326e216",
   "metadata": {},
   "outputs": [
    {
     "data": {
      "image/png": "[encoded data removed]",
      "text/plain": [
       "<Figure size 1800x1080 with 2 Axes>"
      ]
     },
     "metadata": {
      "needs_background": "light"
     },
     "output_type": "display_data"
    }
   ],
   "source": [
    "#ploting correlation\n",
    "plt.figure(figsize = (25,15))\n",
    "sns.heatmap(corr, annot = True, vmax = 1.0, vmin = -1.0, cmap = 'Greens_r', annot_kws = {\"size\": 11.5})\n",
    "plt.show()"
   ]
  },
  {
   "cell_type": "code",
   "execution_count": 82,
   "id": "59df9d8a-89df-4b56-840c-bed3adfd44c2",
   "metadata": {},
   "outputs": [
    {
     "data": {
      "text/plain": [
       "Text(0.5, 1.0, 'loan_default')"
      ]
     },
     "execution_count": 82,
     "metadata": {},
     "output_type": "execute_result"
    },
    {
     "data": {
      "image/png": "[encoded data removed]",
      "text/plain": [
       "<Figure size 432x288 with 1 Axes>"
      ]
     },
     "metadata": {
      "needs_background": "light"
     },
     "output_type": "display_data"
    }
   ],
   "source": [
    "#ploting countplot to check distribution of data and numberof data present target column\n",
    "sns.countplot(train['loan_default'])\n",
    "plt.title('loan_default')"
   ]
  },
  {
   "cell_type": "code",
   "execution_count": 83,
   "id": "c076bbc6-407f-4617-b2d2-d69c18ef53d1",
   "metadata": {},
   "outputs": [
    {
     "data": {
      "text/plain": [
       "<AxesSubplot:xlabel='age', ylabel='count'>"
      ]
     },
     "execution_count": 83,
     "metadata": {},
     "output_type": "execute_result"
    },
    {
     "data": {
      "image/png": "[encoded data removed]",
      "text/plain": [
       "<Figure size 1440x720 with 1 Axes>"
      ]
     },
     "metadata": {
      "needs_background": "light"
     },
     "output_type": "display_data"
    }
   ],
   "source": [
    "#ploting to check distribution of age column\n",
    "plt.figure(figsize=[20,10])\n",
    "sns.countplot(train['age'])"
   ]
  },
  {
   "cell_type": "code",
   "execution_count": 84,
   "id": "872e7f52-77f3-4276-9d5a-4e65e722a0b5",
   "metadata": {},
   "outputs": [
    {
     "data": {
      "text/plain": [
       "<seaborn.axisgrid.FacetGrid at 0x20a6462b490>"
      ]
     },
     "execution_count": 84,
     "metadata": {},
     "output_type": "execute_result"
    },
    {
     "data": {
      "image/png": "[encoded data removed]",
      "text/plain": [
       "<Figure size 789.75x720 with 1 Axes>"
      ]
     },
     "metadata": {
      "needs_background": "light"
     },
     "output_type": "display_data"
    }
   ],
   "source": [
    "#comparission of age with attrition\n",
    "sns.catplot(x='age',hue='loan_default',data=train,kind='count',height=10)"
   ]
  },
  {
   "cell_type": "code",
   "execution_count": 85,
   "id": "97378a50-0c67-4b7e-80c8-ed73723e2d61",
   "metadata": {},
   "outputs": [
    {
     "data": {
      "text/plain": [
       "<AxesSubplot:xlabel='education', ylabel='count'>"
      ]
     },
     "execution_count": 85,
     "metadata": {},
     "output_type": "execute_result"
    },
    {
     "data": {
      "image/png": "[encoded data removed]",
      "text/plain": [
       "<Figure size 432x288 with 1 Axes>"
      ]
     },
     "metadata": {
      "needs_background": "light"
     },
     "output_type": "display_data"
    }
   ],
   "source": [
    "#checking  number of education using count plot\n",
    "plt.xticks(rotation='vertical')\n",
    "sns.countplot(train['education'])"
   ]
  },
  {
   "cell_type": "code",
   "execution_count": 86,
   "id": "9e5ecd30-d635-45a1-b872-457a64f8daf2",
   "metadata": {},
   "outputs": [
    {
     "data": {
      "text/plain": [
       "Index(['proof_submitted'], dtype='object')"
      ]
     },
     "execution_count": 86,
     "metadata": {},
     "output_type": "execute_result"
    }
   ],
   "source": [
    "#checking catagorical features\n",
    "categoric = train.select_dtypes(include = object)\n",
    "categoric.columns"
   ]
  },
  {
   "cell_type": "code",
   "execution_count": 87,
   "id": "d628ecfc-589c-4575-980c-50a0c5ed3828",
   "metadata": {},
   "outputs": [
    {
     "data": {
      "text/plain": [
       "Index(['age', 'education', 'loan_amount', 'asset_cost', 'no_of_loans',\n",
       "       'no_of_curr_loans', 'last_delinq_none', 'loan_default'],\n",
       "      dtype='object')"
      ]
     },
     "execution_count": 87,
     "metadata": {},
     "output_type": "execute_result"
    }
   ],
   "source": [
    "#checking numerical features\n",
    "train_numeric = train.select_dtypes(include=np.number)\n",
    "train_numeric.columns"
   ]
  },
  {
   "cell_type": "markdown",
   "id": "da265904-bed9-4ed6-b7d0-3d7a1c85c013",
   "metadata": {},
   "source": [
    "# encoding using dummy encoding"
   ]
  },
  {
   "cell_type": "code",
   "execution_count": 88,
   "id": "54a861af-1bcd-4d05-9368-6e5f1e339163",
   "metadata": {},
   "outputs": [],
   "source": [
    "#making encoding for changing catagoricl values to numerical using dummy encoding\n",
    "dummy_encode = pd.get_dummies(categoric, drop_first = True)"
   ]
  },
  {
   "cell_type": "code",
   "execution_count": 89,
   "id": "4253df94-70e3-4ccc-b916-1fc4f7ba6bcd",
   "metadata": {},
   "outputs": [
    {
     "data": {
      "text/html": [
       "<div>\n",
       "<style scoped>\n",
       "    .dataframe tbody tr th:only-of-type {\n",
       "        vertical-align: middle;\n",
       "    }\n",
       "\n",
       "    .dataframe tbody tr th {\n",
       "        vertical-align: top;\n",
       "    }\n",
       "\n",
       "    .dataframe thead th {\n",
       "        text-align: right;\n",
       "    }\n",
       "</style>\n",
       "<table border=\"1\" class=\"dataframe\">\n",
       "  <thead>\n",
       "    <tr style=\"text-align: right;\">\n",
       "      <th></th>\n",
       "      <th>age</th>\n",
       "      <th>education</th>\n",
       "      <th>loan_amount</th>\n",
       "      <th>asset_cost</th>\n",
       "      <th>no_of_loans</th>\n",
       "      <th>no_of_curr_loans</th>\n",
       "      <th>last_delinq_none</th>\n",
       "      <th>loan_default</th>\n",
       "      <th>proof_submitted_Driving</th>\n",
       "      <th>proof_submitted_PAN</th>\n",
       "      <th>proof_submitted_Passport</th>\n",
       "      <th>proof_submitted_VoterID</th>\n",
       "    </tr>\n",
       "  </thead>\n",
       "  <tbody>\n",
       "    <tr>\n",
       "      <th>0</th>\n",
       "      <td>27</td>\n",
       "      <td>1.0</td>\n",
       "      <td>504264</td>\n",
       "      <td>820920</td>\n",
       "      <td>2</td>\n",
       "      <td>2</td>\n",
       "      <td>0</td>\n",
       "      <td>0</td>\n",
       "      <td>0</td>\n",
       "      <td>0</td>\n",
       "      <td>0</td>\n",
       "      <td>0</td>\n",
       "    </tr>\n",
       "    <tr>\n",
       "      <th>1</th>\n",
       "      <td>48</td>\n",
       "      <td>1.0</td>\n",
       "      <td>728556</td>\n",
       "      <td>831444</td>\n",
       "      <td>6</td>\n",
       "      <td>2</td>\n",
       "      <td>0</td>\n",
       "      <td>0</td>\n",
       "      <td>0</td>\n",
       "      <td>0</td>\n",
       "      <td>0</td>\n",
       "      <td>0</td>\n",
       "    </tr>\n",
       "    <tr>\n",
       "      <th>2</th>\n",
       "      <td>30</td>\n",
       "      <td>2.0</td>\n",
       "      <td>642936</td>\n",
       "      <td>826092</td>\n",
       "      <td>0</td>\n",
       "      <td>0</td>\n",
       "      <td>0</td>\n",
       "      <td>1</td>\n",
       "      <td>0</td>\n",
       "      <td>0</td>\n",
       "      <td>0</td>\n",
       "      <td>1</td>\n",
       "    </tr>\n",
       "    <tr>\n",
       "      <th>3</th>\n",
       "      <td>28</td>\n",
       "      <td>1.0</td>\n",
       "      <td>746556</td>\n",
       "      <td>930924</td>\n",
       "      <td>0</td>\n",
       "      <td>0</td>\n",
       "      <td>0</td>\n",
       "      <td>0</td>\n",
       "      <td>0</td>\n",
       "      <td>0</td>\n",
       "      <td>0</td>\n",
       "      <td>0</td>\n",
       "    </tr>\n",
       "    <tr>\n",
       "      <th>4</th>\n",
       "      <td>29</td>\n",
       "      <td>1.0</td>\n",
       "      <td>1139880</td>\n",
       "      <td>1902000</td>\n",
       "      <td>0</td>\n",
       "      <td>0</td>\n",
       "      <td>0</td>\n",
       "      <td>0</td>\n",
       "      <td>0</td>\n",
       "      <td>0</td>\n",
       "      <td>0</td>\n",
       "      <td>0</td>\n",
       "    </tr>\n",
       "  </tbody>\n",
       "</table>\n",
       "</div>"
      ],
      "text/plain": [
       "   age  education  loan_amount  asset_cost  no_of_loans  no_of_curr_loans  \\\n",
       "0   27        1.0       504264      820920            2                 2   \n",
       "1   48        1.0       728556      831444            6                 2   \n",
       "2   30        2.0       642936      826092            0                 0   \n",
       "3   28        1.0       746556      930924            0                 0   \n",
       "4   29        1.0      1139880     1902000            0                 0   \n",
       "\n",
       "   last_delinq_none  loan_default  proof_submitted_Driving  \\\n",
       "0                 0             0                        0   \n",
       "1                 0             0                        0   \n",
       "2                 0             1                        0   \n",
       "3                 0             0                        0   \n",
       "4                 0             0                        0   \n",
       "\n",
       "   proof_submitted_PAN  proof_submitted_Passport  proof_submitted_VoterID  \n",
       "0                    0                         0                        0  \n",
       "1                    0                         0                        0  \n",
       "2                    0                         0                        1  \n",
       "3                    0                         0                        0  \n",
       "4                    0                         0                        0  "
      ]
     },
     "execution_count": 89,
     "metadata": {},
     "output_type": "execute_result"
    }
   ],
   "source": [
    "#joining the dummy encoded values and numeric values for future moddel building\n",
    "train_data_dummy = pd.concat([train_numeric, dummy_encode], axis=1)\n",
    "train_data_dummy.head()"
   ]
  },
  {
   "cell_type": "markdown",
   "id": "f5b52f12-54cf-4846-830b-25f489b1fa4f",
   "metadata": {},
   "source": [
    "# spliting data"
   ]
  },
  {
   "cell_type": "code",
   "execution_count": 90,
   "id": "1b4ec837-0233-44a7-8c0c-bb347bceef06",
   "metadata": {},
   "outputs": [],
   "source": [
    "#sepetaring target column(attrition) from dataset(spliting x and y)\n",
    "X=train_data_dummy.drop(['loan_default'], axis = 1)\n",
    "y=train_data_dummy[['loan_default']]"
   ]
  },
  {
   "cell_type": "code",
   "execution_count": 91,
   "id": "6e998fa1-9137-4f63-bd97-aefc93df69d6",
   "metadata": {},
   "outputs": [
    {
     "data": {
      "text/plain": [
       "(7000, 11)"
      ]
     },
     "execution_count": 91,
     "metadata": {},
     "output_type": "execute_result"
    }
   ],
   "source": [
    "X.shape"
   ]
  },
  {
   "cell_type": "code",
   "execution_count": 92,
   "id": "0ac5ec95-07ec-492f-b7ca-041078f11b01",
   "metadata": {},
   "outputs": [
    {
     "data": {
      "text/plain": [
       "(7000, 1)"
      ]
     },
     "execution_count": 92,
     "metadata": {},
     "output_type": "execute_result"
    }
   ],
   "source": [
    "y.shape"
   ]
  },
  {
   "cell_type": "code",
   "execution_count": 93,
   "id": "ec80e1c3-0eed-4321-a1ad-3484691c3b18",
   "metadata": {},
   "outputs": [
    {
     "name": "stdout",
     "output_type": "stream",
     "text": [
      "The shape of X_train is: (4900, 11)\n",
      "The shape of X_test is: (2100, 11)\n",
      "The shape of y_train is: (4900, 1)\n",
      "The shape of y_test is: (2100, 1)\n"
     ]
    }
   ],
   "source": [
    "# Splitting Dataset into train and test set\n",
    "X_train, X_test, y_train, y_test = train_test_split(X, y, test_size = 0.2, random_state = 1)\n",
    "print(\"The shape of X_train is:\",X_train.shape)\n",
    "print(\"The shape of X_test is:\",X_test.shape)\n",
    "print(\"The shape of y_train is:\",y_train.shape)\n",
    "print(\"The shape of y_test is:\",y_test.shape)"
   ]
  },
  {
   "cell_type": "markdown",
   "id": "c10636e0-3d77-4bee-b127-4eff3f46bebb",
   "metadata": {},
   "source": [
    "## model building"
   ]
  },
  {
   "cell_type": "markdown",
   "id": "510e306e-5b3b-4df8-a774-0eae96501a2b",
   "metadata": {},
   "source": [
    "# logistic regression"
   ]
  },
  {
   "cell_type": "code",
   "execution_count": 94,
   "id": "3219aad1-4451-4e22-90d6-7e083ac8b70c",
   "metadata": {},
   "outputs": [
    {
     "name": "stdout",
     "output_type": "stream",
     "text": [
      "60.71\n"
     ]
    }
   ],
   "source": [
    "# creating object for model\n",
    "logisticRegr = LogisticRegression()\n",
    "# Model Training\n",
    "logisticRegr.fit(X_train, y_train)\n",
    "# Making Predictions\n",
    "y_pred_lr = logisticRegr.predict(X_test)\n",
    "# Calculating Accuracy of the model\n",
    "lr = round(accuracy_score(y_test, y_pred_lr)*100,2)\n",
    "print(lr)"
   ]
  },
  {
   "cell_type": "code",
   "execution_count": 95,
   "id": "16b3fb8b-9a50-4628-a891-8dea29080b2b",
   "metadata": {},
   "outputs": [
    {
     "name": "stdout",
     "output_type": "stream",
     "text": [
      "[[1275    0]\n",
      " [ 825    0]]\n"
     ]
    }
   ],
   "source": [
    "# confusion Matrix\n",
    "cm = confusion_matrix(y_test, y_pred_lr)\n",
    "print(cm)"
   ]
  },
  {
   "cell_type": "code",
   "execution_count": 96,
   "id": "7c571ced-21eb-4240-adfe-20402494feb7",
   "metadata": {},
   "outputs": [
    {
     "name": "stdout",
     "output_type": "stream",
     "text": [
      "              precision    recall  f1-score   support\n",
      "\n",
      "           0       0.61      1.00      0.76      1275\n",
      "           1       0.00      0.00      0.00       825\n",
      "\n",
      "    accuracy                           0.61      2100\n",
      "   macro avg       0.30      0.50      0.38      2100\n",
      "weighted avg       0.37      0.61      0.46      2100\n",
      "\n"
     ]
    }
   ],
   "source": [
    "# Classification Report for check accuracy\n",
    "print(classification_report(y_test,y_pred_lr))"
   ]
  },
  {
   "cell_type": "code",
   "execution_count": 97,
   "id": "3ec32cdf-4bd9-4b58-9d80-3883435a25e5",
   "metadata": {},
   "outputs": [],
   "source": [
    "# checking target if data is balenced or not"
   ]
  },
  {
   "cell_type": "code",
   "execution_count": 98,
   "id": "43f2d845-fac8-46cd-b7bd-773a315250b8",
   "metadata": {},
   "outputs": [
    {
     "data": {
      "text/plain": [
       "loan_default\n",
       "0               4200\n",
       "1               2800\n",
       "dtype: int64"
      ]
     },
     "execution_count": 98,
     "metadata": {},
     "output_type": "execute_result"
    }
   ],
   "source": [
    "#checking imbalence of data\n",
    "y.value_counts()"
   ]
  },
  {
   "cell_type": "markdown",
   "id": "401f48ea-4fc1-4deb-8d0d-5790d7b60558",
   "metadata": {},
   "source": [
    "## balencing data using SMOTE"
   ]
  },
  {
   "cell_type": "code",
   "execution_count": 99,
   "id": "6848c5f6-8e7c-47d3-9a77-c935eab47b1e",
   "metadata": {},
   "outputs": [],
   "source": [
    "#SMOTE (synthetic minority oversampling technique) is one of the most commonly used oversampling methods to solve the imbalance problem.\n",
    "#It aims to balance class distribution by randomly increasing minority class examples by replicating them."
   ]
  },
  {
   "cell_type": "code",
   "execution_count": 100,
   "id": "a95b2112-d7cb-477e-a59a-213abd0a4748",
   "metadata": {},
   "outputs": [
    {
     "data": {
      "text/plain": [
       "loan_default\n",
       "0               4200\n",
       "1               4200\n",
       "dtype: int64"
      ]
     },
     "execution_count": 100,
     "metadata": {},
     "output_type": "execute_result"
    }
   ],
   "source": [
    "oversample = SMOTE()\n",
    "smote = SMOTE(random_state = 1)\n",
    "X1, y1 = oversample.fit_resample(X, y)\n",
    "y1.value_counts()"
   ]
  },
  {
   "cell_type": "code",
   "execution_count": 101,
   "id": "8afc09b2-058f-428f-bd66-cdcfa59464f2",
   "metadata": {},
   "outputs": [
    {
     "name": "stdout",
     "output_type": "stream",
     "text": [
      "The shape of X_train is: (5880, 11)\n",
      "The shape of X_test is: (2520, 11)\n",
      "The shape of y_train is: (5880, 1)\n",
      "The shape of y_test is: (2520, 1)\n"
     ]
    }
   ],
   "source": [
    "#spliting data into train and test after smote\n",
    "X_train, X_test, y_train, y_test = train_test_split(X1, y1, test_size = 0.2, random_state = 1)\n",
    "print(\"The shape of X_train is:\",X_train.shape)\n",
    "print(\"The shape of X_test is:\",X_test.shape)\n",
    "print(\"The shape of y_train is:\",y_train.shape)\n",
    "print(\"The shape of y_test is:\",y_test.shape)"
   ]
  },
  {
   "cell_type": "markdown",
   "id": "5dc106a8-3400-44ca-8531-be02cc4688b8",
   "metadata": {},
   "source": [
    "# Random forest"
   ]
  },
  {
   "cell_type": "code",
   "execution_count": 102,
   "id": "d04a5908-781a-412b-b75b-b7bb011298c7",
   "metadata": {},
   "outputs": [
    {
     "name": "stdout",
     "output_type": "stream",
     "text": [
      "63.21\n"
     ]
    }
   ],
   "source": [
    "# Creating model object\n",
    "model_r_f1 = RandomForestClassifier()\n",
    "# Training Model\n",
    "model_r_f1.fit(X_train, y_train)\n",
    "# Making Prediction\n",
    "y_pred_rf1 = model_r_f1.predict(X_test)\n",
    "# Calculating Accuracy Score\n",
    "rf1 = round(accuracy_score(y_test, y_pred_rf1)*100, 2)\n",
    "print(rf1)"
   ]
  },
  {
   "cell_type": "code",
   "execution_count": 103,
   "id": "0c926e37-3fef-4ede-8378-1ce6e0f7526a",
   "metadata": {},
   "outputs": [
    {
     "data": {
      "image/png": "[encoded data removed]",
      "text/plain": [
       "<Figure size 432x288 with 2 Axes>"
      ]
     },
     "metadata": {
      "needs_background": "light"
     },
     "output_type": "display_data"
    }
   ],
   "source": [
    "# confusion Maxtrix\n",
    "cm3 = confusion_matrix(y_test, y_pred_rf1)\n",
    "sns.heatmap(cm3, annot = True, fmt=  'd', cmap = 'YlGnBu')\n",
    "plt.title(\"RandomForest Classifier Confusion Matrix\",fontsize=12)\n",
    "plt.show()"
   ]
  },
  {
   "cell_type": "code",
   "execution_count": 104,
   "id": "0966f053-4e61-4b64-862a-e1bb66dec07b",
   "metadata": {},
   "outputs": [
    {
     "name": "stdout",
     "output_type": "stream",
     "text": [
      "              precision    recall  f1-score   support\n",
      "\n",
      "           0       0.62      0.67      0.64      1251\n",
      "           1       0.65      0.60      0.62      1269\n",
      "\n",
      "    accuracy                           0.63      2520\n",
      "   macro avg       0.63      0.63      0.63      2520\n",
      "weighted avg       0.63      0.63      0.63      2520\n",
      "\n"
     ]
    }
   ],
   "source": [
    "# Classification Report for check accuracy\n",
    "print(classification_report(y_test,y_pred_rf1))"
   ]
  },
  {
   "cell_type": "code",
   "execution_count": 105,
   "id": "d9b0554a-e9e2-4007-85de-a725fbbee7aa",
   "metadata": {},
   "outputs": [],
   "source": [
    "# after random forest our model doint giving higest accuracy so we use hyperparameter tuning  to protect our model from overfit or underfit"
   ]
  },
  {
   "cell_type": "markdown",
   "id": "d8943767-a0e1-49e3-9cf3-357a8e5befff",
   "metadata": {},
   "source": [
    "# random forest hyperpatametr tuning"
   ]
  },
  {
   "cell_type": "code",
   "execution_count": 106,
   "id": "70b0d258-9414-41a6-9e3b-020dc4a3c75d",
   "metadata": {},
   "outputs": [
    {
     "data": {
      "text/plain": [
       "GridSearchCV(estimator=RandomForestClassifier(),\n",
       "             param_grid=[{'max_depth': [5, 10, 15, 20],\n",
       "                          'min_samples_leaf': [10, 50, 100],\n",
       "                          'min_samples_split': [20, 100, 200],\n",
       "                          'n_estimators': [5, 10, 50]}])"
      ]
     },
     "execution_count": 106,
     "metadata": {},
     "output_type": "execute_result"
    }
   ],
   "source": [
    "# hyperparameter tuning using gridserch for randomforst classifer\n",
    "from sklearn.model_selection import GridSearchCV\n",
    "rfgridcv=GridSearchCV(estimator=RandomForestClassifier(),\n",
    "param_grid=[{'n_estimators': [5,10,50],\n",
    "                               'max_depth':[5,10,15,20],\n",
    "                               'min_samples_leaf':[10,50,100],\n",
    "                               'min_samples_split': [20,100,200]}])\n",
    "rfgridcv.fit(X_train,y_train)"
   ]
  },
  {
   "cell_type": "code",
   "execution_count": 107,
   "id": "65820752-d2fc-4e74-bd5b-baad07ebcc3a",
   "metadata": {},
   "outputs": [
    {
     "name": "stdout",
     "output_type": "stream",
     "text": [
      "62.58\n"
     ]
    }
   ],
   "source": [
    "y_pred_rgcv=rfgridcv.predict(X_test)\n",
    "# Calculating Accuracy of the model\n",
    "rgcv= round(accuracy_score(y_test, y_pred_rgcv)*100,2)\n",
    "print(rgcv)"
   ]
  },
  {
   "cell_type": "code",
   "execution_count": 108,
   "id": "c03a9a81-25a8-48e0-b892-093ef920737e",
   "metadata": {},
   "outputs": [
    {
     "data": {
      "image/png": "[encoded data removed]",
      "text/plain": [
       "<Figure size 432x288 with 2 Axes>"
      ]
     },
     "metadata": {
      "needs_background": "light"
     },
     "output_type": "display_data"
    }
   ],
   "source": [
    "#confussion matrix for test data\n",
    "cmm = confusion_matrix(y_test, y_pred_rgcv)\n",
    "sns.heatmap(cmm, annot = True, fmt=  'd', cmap = 'Reds')\n",
    "plt.title(\"Random Forest (using hyperparameter tuning ) Confusion Matrix \",fontsize=12)\n",
    "plt.show()"
   ]
  },
  {
   "cell_type": "code",
   "execution_count": 109,
   "id": "a0ad8fe9-136e-4932-b2a3-b7541432fdca",
   "metadata": {},
   "outputs": [
    {
     "name": "stderr",
     "output_type": "stream",
     "text": [
      "[Parallel(n_jobs=1)]: Using backend SequentialBackend with 1 concurrent workers.\n",
      "[Parallel(n_jobs=1)]: Done 1000 out of 1000 | elapsed:   13.1s finished\n",
      "[Parallel(n_jobs=1)]: Using backend SequentialBackend with 1 concurrent workers.\n",
      "[Parallel(n_jobs=1)]: Done 1000 out of 1000 | elapsed:    0.4s finished\n",
      "[Parallel(n_jobs=1)]: Using backend SequentialBackend with 1 concurrent workers.\n",
      "[Parallel(n_jobs=1)]: Done 1000 out of 1000 | elapsed:    1.3s finished\n",
      "[Parallel(n_jobs=1)]: Using backend SequentialBackend with 1 concurrent workers.\n",
      "[Parallel(n_jobs=1)]: Done 1000 out of 1000 | elapsed:   11.7s finished\n",
      "[Parallel(n_jobs=1)]: Using backend SequentialBackend with 1 concurrent workers.\n",
      "[Parallel(n_jobs=1)]: Done 1000 out of 1000 | elapsed:    0.4s finished\n",
      "[Parallel(n_jobs=1)]: Using backend SequentialBackend with 1 concurrent workers.\n",
      "[Parallel(n_jobs=1)]: Done 1000 out of 1000 | elapsed:    1.3s finished\n",
      "[Parallel(n_jobs=1)]: Using backend SequentialBackend with 1 concurrent workers.\n",
      "[Parallel(n_jobs=1)]: Done 1000 out of 1000 | elapsed:   12.5s finished\n",
      "[Parallel(n_jobs=1)]: Using backend SequentialBackend with 1 concurrent workers.\n",
      "[Parallel(n_jobs=1)]: Done 1000 out of 1000 | elapsed:    0.4s finished\n",
      "[Parallel(n_jobs=1)]: Using backend SequentialBackend with 1 concurrent workers.\n",
      "[Parallel(n_jobs=1)]: Done 1000 out of 1000 | elapsed:    2.2s finished\n",
      "[Parallel(n_jobs=1)]: Using backend SequentialBackend with 1 concurrent workers.\n",
      "[Parallel(n_jobs=1)]: Done 1000 out of 1000 | elapsed:   13.7s finished\n",
      "[Parallel(n_jobs=1)]: Using backend SequentialBackend with 1 concurrent workers.\n",
      "[Parallel(n_jobs=1)]: Done 1000 out of 1000 | elapsed:    0.5s finished\n",
      "[Parallel(n_jobs=1)]: Using backend SequentialBackend with 1 concurrent workers.\n",
      "[Parallel(n_jobs=1)]: Done 1000 out of 1000 | elapsed:    1.4s finished\n",
      "[Parallel(n_jobs=1)]: Using backend SequentialBackend with 1 concurrent workers.\n",
      "[Parallel(n_jobs=1)]: Done 1000 out of 1000 | elapsed:   11.8s finished\n",
      "[Parallel(n_jobs=1)]: Using backend SequentialBackend with 1 concurrent workers.\n",
      "[Parallel(n_jobs=1)]: Done 1000 out of 1000 | elapsed:    0.4s finished\n",
      "[Parallel(n_jobs=1)]: Using backend SequentialBackend with 1 concurrent workers.\n",
      "[Parallel(n_jobs=1)]: Done 1000 out of 1000 | elapsed:    1.7s finished\n"
     ]
    },
    {
     "data": {
      "text/plain": [
       "{'fit_time': array([15.74993873, 13.50437117, 14.76244855, 16.09340334, 14.03482294]),\n",
       " 'score_time': array([0.48943019, 0.45803428, 0.52203751, 0.55618334, 0.51758909]),\n",
       " 'test_score': array([0.58857143, 0.57071429, 0.57357143, 0.57785714, 0.58857143]),\n",
       " 'train_score': array([1.        , 0.99982143, 1.        , 0.99982143, 0.99982143])}"
      ]
     },
     "execution_count": 109,
     "metadata": {},
     "output_type": "execute_result"
    }
   ],
   "source": [
    "#checking with sklearn cross validate\n",
    "from sklearn.model_selection import cross_validate\n",
    "from sklearn.model_selection import cross_val_score\n",
    "model = RandomForestClassifier(n_estimators=1000, random_state=1, criterion='entropy', bootstrap=True, oob_score=True, verbose=1)\n",
    "cv_dict = cross_validate(model, X, y, return_train_score=True)\n",
    "cv_dict"
   ]
  },
  {
   "cell_type": "code",
   "execution_count": 110,
   "id": "26cfc3f3-248c-41c2-abba-cc4496356540",
   "metadata": {},
   "outputs": [],
   "source": [
    "#after seeing this shows our model gridsearch cv not going any overfit or undrfit"
   ]
  },
  {
   "cell_type": "markdown",
   "id": "eec084bf-b332-4432-a01d-a5a8671a2048",
   "metadata": {
    "tags": []
   },
   "source": [
    "## testing our model to future data and predicting for future data"
   ]
  },
  {
   "cell_type": "markdown",
   "id": "2b566215-55c9-40ab-b6cb-6058a1041ca8",
   "metadata": {},
   "source": [
    "# reading test data"
   ]
  },
  {
   "cell_type": "code",
   "execution_count": 111,
   "id": "a8a76606-9049-4ebc-9d60-60ba662f0530",
   "metadata": {},
   "outputs": [],
   "source": [
    "#reading test data \n",
    "test_data = pd.read_csv(\"test_4zJg83n.csv\")"
   ]
  },
  {
   "cell_type": "code",
   "execution_count": 112,
   "id": "4f69925a-fc34-454e-926d-e458bbfc5f2a",
   "metadata": {},
   "outputs": [
    {
     "data": {
      "text/html": [
       "<div>\n",
       "<style scoped>\n",
       "    .dataframe tbody tr th:only-of-type {\n",
       "        vertical-align: middle;\n",
       "    }\n",
       "\n",
       "    .dataframe tbody tr th {\n",
       "        vertical-align: top;\n",
       "    }\n",
       "\n",
       "    .dataframe thead th {\n",
       "        text-align: right;\n",
       "    }\n",
       "</style>\n",
       "<table border=\"1\" class=\"dataframe\">\n",
       "  <thead>\n",
       "    <tr style=\"text-align: right;\">\n",
       "      <th></th>\n",
       "      <th>loan_id</th>\n",
       "      <th>age</th>\n",
       "      <th>education</th>\n",
       "      <th>proof_submitted</th>\n",
       "      <th>loan_amount</th>\n",
       "      <th>asset_cost</th>\n",
       "      <th>no_of_loans</th>\n",
       "      <th>no_of_curr_loans</th>\n",
       "      <th>last_delinq_none</th>\n",
       "    </tr>\n",
       "  </thead>\n",
       "  <tbody>\n",
       "    <tr>\n",
       "      <th>0</th>\n",
       "      <td>7001</td>\n",
       "      <td>29</td>\n",
       "      <td>1.0</td>\n",
       "      <td>Aadhar</td>\n",
       "      <td>636936</td>\n",
       "      <td>768240</td>\n",
       "      <td>2</td>\n",
       "      <td>2</td>\n",
       "      <td>0</td>\n",
       "    </tr>\n",
       "    <tr>\n",
       "      <th>1</th>\n",
       "      <td>7002</td>\n",
       "      <td>28</td>\n",
       "      <td>1.0</td>\n",
       "      <td>Aadhar</td>\n",
       "      <td>548988</td>\n",
       "      <td>693060</td>\n",
       "      <td>3</td>\n",
       "      <td>3</td>\n",
       "      <td>0</td>\n",
       "    </tr>\n",
       "    <tr>\n",
       "      <th>2</th>\n",
       "      <td>7003</td>\n",
       "      <td>28</td>\n",
       "      <td>1.0</td>\n",
       "      <td>Aadhar</td>\n",
       "      <td>651756</td>\n",
       "      <td>936600</td>\n",
       "      <td>0</td>\n",
       "      <td>0</td>\n",
       "      <td>0</td>\n",
       "    </tr>\n",
       "    <tr>\n",
       "      <th>3</th>\n",
       "      <td>7004</td>\n",
       "      <td>45</td>\n",
       "      <td>2.0</td>\n",
       "      <td>Aadhar</td>\n",
       "      <td>614676</td>\n",
       "      <td>744840</td>\n",
       "      <td>4</td>\n",
       "      <td>3</td>\n",
       "      <td>0</td>\n",
       "    </tr>\n",
       "    <tr>\n",
       "      <th>4</th>\n",
       "      <td>7005</td>\n",
       "      <td>48</td>\n",
       "      <td>1.0</td>\n",
       "      <td>Aadhar</td>\n",
       "      <td>625236</td>\n",
       "      <td>839400</td>\n",
       "      <td>0</td>\n",
       "      <td>0</td>\n",
       "      <td>0</td>\n",
       "    </tr>\n",
       "  </tbody>\n",
       "</table>\n",
       "</div>"
      ],
      "text/plain": [
       "   loan_id  age  education proof_submitted  loan_amount  asset_cost  \\\n",
       "0     7001   29        1.0          Aadhar       636936      768240   \n",
       "1     7002   28        1.0          Aadhar       548988      693060   \n",
       "2     7003   28        1.0          Aadhar       651756      936600   \n",
       "3     7004   45        2.0          Aadhar       614676      744840   \n",
       "4     7005   48        1.0          Aadhar       625236      839400   \n",
       "\n",
       "   no_of_loans  no_of_curr_loans  last_delinq_none  \n",
       "0            2                 2                 0  \n",
       "1            3                 3                 0  \n",
       "2            0                 0                 0  \n",
       "3            4                 3                 0  \n",
       "4            0                 0                 0  "
      ]
     },
     "execution_count": 112,
     "metadata": {},
     "output_type": "execute_result"
    }
   ],
   "source": [
    "#displaying\n",
    "test_data.head()"
   ]
  },
  {
   "cell_type": "code",
   "execution_count": 113,
   "id": "f188ed07-175b-4137-82d0-77026cafbde2",
   "metadata": {},
   "outputs": [
    {
     "data": {
      "text/plain": [
       "(3000, 9)"
      ]
     },
     "execution_count": 113,
     "metadata": {},
     "output_type": "execute_result"
    }
   ],
   "source": [
    "#checking shape\n",
    "test_data.shape"
   ]
  },
  {
   "cell_type": "code",
   "execution_count": 114,
   "id": "e02ad953-faab-4b80-8cc7-efa2aea6a9ae",
   "metadata": {},
   "outputs": [
    {
     "name": "stdout",
     "output_type": "stream",
     "text": [
      "<class 'pandas.core.frame.DataFrame'>\n",
      "RangeIndex: 3000 entries, 0 to 2999\n",
      "Data columns (total 9 columns):\n",
      " #   Column            Non-Null Count  Dtype  \n",
      "---  ------            --------------  -----  \n",
      " 0   loan_id           3000 non-null   int64  \n",
      " 1   age               3000 non-null   int64  \n",
      " 2   education         2908 non-null   float64\n",
      " 3   proof_submitted   3000 non-null   object \n",
      " 4   loan_amount       3000 non-null   int64  \n",
      " 5   asset_cost        3000 non-null   int64  \n",
      " 6   no_of_loans       3000 non-null   int64  \n",
      " 7   no_of_curr_loans  3000 non-null   int64  \n",
      " 8   last_delinq_none  3000 non-null   int64  \n",
      "dtypes: float64(1), int64(7), object(1)\n",
      "memory usage: 211.1+ KB\n"
     ]
    }
   ],
   "source": [
    "test_data.info()"
   ]
  },
  {
   "cell_type": "markdown",
   "id": "5e1c2807-eee2-4fd1-a5e8-bd0fb577c58e",
   "metadata": {},
   "source": [
    "# checking for null values"
   ]
  },
  {
   "cell_type": "code",
   "execution_count": 115,
   "id": "61dda8fd-dc6e-4222-b1d7-0dcbc792018f",
   "metadata": {},
   "outputs": [
    {
     "data": {
      "text/plain": [
       "loan_id              0\n",
       "age                  0\n",
       "education           92\n",
       "proof_submitted      0\n",
       "loan_amount          0\n",
       "asset_cost           0\n",
       "no_of_loans          0\n",
       "no_of_curr_loans     0\n",
       "last_delinq_none     0\n",
       "dtype: int64"
      ]
     },
     "execution_count": 115,
     "metadata": {},
     "output_type": "execute_result"
    }
   ],
   "source": [
    "test_data.isnull().sum()"
   ]
  },
  {
   "cell_type": "code",
   "execution_count": 116,
   "id": "711a0444-57e8-445b-ae1a-0e45419322a9",
   "metadata": {},
   "outputs": [
    {
     "data": {
      "text/plain": [
       "3.0666666666666664"
      ]
     },
     "execution_count": 116,
     "metadata": {},
     "output_type": "execute_result"
    }
   ],
   "source": [
    "Null_values_percentage=(test_data.isnull().sum().sum()/len(test_data))*100\n",
    "Null_values_percentage"
   ]
  },
  {
   "cell_type": "code",
   "execution_count": 117,
   "id": "b5b85873-2758-4e2e-9646-c2e4bfddc3bd",
   "metadata": {},
   "outputs": [],
   "source": [
    "#computing null values of catogoric features with mode\n",
    "test_data['education'].fillna(test_data['education'].mode()[0], inplace=True)"
   ]
  },
  {
   "cell_type": "code",
   "execution_count": 118,
   "id": "431666e1-f83b-46e5-9363-25df72c20b14",
   "metadata": {},
   "outputs": [
    {
     "data": {
      "text/plain": [
       "loan_id             0\n",
       "age                 0\n",
       "education           0\n",
       "proof_submitted     0\n",
       "loan_amount         0\n",
       "asset_cost          0\n",
       "no_of_loans         0\n",
       "no_of_curr_loans    0\n",
       "last_delinq_none    0\n",
       "dtype: int64"
      ]
     },
     "execution_count": 118,
     "metadata": {},
     "output_type": "execute_result"
    }
   ],
   "source": [
    "test_data.isnull().sum()"
   ]
  },
  {
   "cell_type": "markdown",
   "id": "278886af-7c3b-4ff8-b160-376997ce3b1d",
   "metadata": {},
   "source": [
    "# finding co-relation"
   ]
  },
  {
   "cell_type": "code",
   "execution_count": 119,
   "id": "3a3eeda9-e329-4f03-bbda-f3c3c79d9d13",
   "metadata": {},
   "outputs": [
    {
     "data": {
      "text/html": [
       "<div>\n",
       "<style scoped>\n",
       "    .dataframe tbody tr th:only-of-type {\n",
       "        vertical-align: middle;\n",
       "    }\n",
       "\n",
       "    .dataframe tbody tr th {\n",
       "        vertical-align: top;\n",
       "    }\n",
       "\n",
       "    .dataframe thead th {\n",
       "        text-align: right;\n",
       "    }\n",
       "</style>\n",
       "<table border=\"1\" class=\"dataframe\">\n",
       "  <thead>\n",
       "    <tr style=\"text-align: right;\">\n",
       "      <th></th>\n",
       "      <th>loan_id</th>\n",
       "      <th>age</th>\n",
       "      <th>education</th>\n",
       "      <th>loan_amount</th>\n",
       "      <th>asset_cost</th>\n",
       "      <th>no_of_loans</th>\n",
       "      <th>no_of_curr_loans</th>\n",
       "      <th>last_delinq_none</th>\n",
       "    </tr>\n",
       "  </thead>\n",
       "  <tbody>\n",
       "    <tr>\n",
       "      <th>count</th>\n",
       "      <td>3000.000000</td>\n",
       "      <td>3000.000000</td>\n",
       "      <td>3000.000000</td>\n",
       "      <td>3.000000e+03</td>\n",
       "      <td>3.000000e+03</td>\n",
       "      <td>3000.000000</td>\n",
       "      <td>3000.000000</td>\n",
       "      <td>3000.000000</td>\n",
       "    </tr>\n",
       "    <tr>\n",
       "      <th>mean</th>\n",
       "      <td>8500.500000</td>\n",
       "      <td>36.111000</td>\n",
       "      <td>1.577000</td>\n",
       "      <td>6.629294e+05</td>\n",
       "      <td>9.106000e+05</td>\n",
       "      <td>2.819000</td>\n",
       "      <td>1.374333</td>\n",
       "      <td>0.014333</td>\n",
       "    </tr>\n",
       "    <tr>\n",
       "      <th>std</th>\n",
       "      <td>866.169729</td>\n",
       "      <td>7.467347</td>\n",
       "      <td>0.494118</td>\n",
       "      <td>1.451009e+05</td>\n",
       "      <td>2.070278e+05</td>\n",
       "      <td>5.329575</td>\n",
       "      <td>2.218825</td>\n",
       "      <td>0.118881</td>\n",
       "    </tr>\n",
       "    <tr>\n",
       "      <th>min</th>\n",
       "      <td>7001.000000</td>\n",
       "      <td>21.000000</td>\n",
       "      <td>1.000000</td>\n",
       "      <td>1.696800e+05</td>\n",
       "      <td>4.706040e+05</td>\n",
       "      <td>0.000000</td>\n",
       "      <td>0.000000</td>\n",
       "      <td>0.000000</td>\n",
       "    </tr>\n",
       "    <tr>\n",
       "      <th>25%</th>\n",
       "      <td>7750.750000</td>\n",
       "      <td>30.000000</td>\n",
       "      <td>1.000000</td>\n",
       "      <td>5.801880e+05</td>\n",
       "      <td>7.930710e+05</td>\n",
       "      <td>0.000000</td>\n",
       "      <td>0.000000</td>\n",
       "      <td>0.000000</td>\n",
       "    </tr>\n",
       "    <tr>\n",
       "      <th>50%</th>\n",
       "      <td>8500.500000</td>\n",
       "      <td>36.000000</td>\n",
       "      <td>2.000000</td>\n",
       "      <td>6.541560e+05</td>\n",
       "      <td>8.569080e+05</td>\n",
       "      <td>0.000000</td>\n",
       "      <td>0.000000</td>\n",
       "      <td>0.000000</td>\n",
       "    </tr>\n",
       "    <tr>\n",
       "      <th>75%</th>\n",
       "      <td>9250.250000</td>\n",
       "      <td>42.000000</td>\n",
       "      <td>2.000000</td>\n",
       "      <td>7.315590e+05</td>\n",
       "      <td>9.501360e+05</td>\n",
       "      <td>4.000000</td>\n",
       "      <td>2.000000</td>\n",
       "      <td>0.000000</td>\n",
       "    </tr>\n",
       "    <tr>\n",
       "      <th>max</th>\n",
       "      <td>10000.000000</td>\n",
       "      <td>50.000000</td>\n",
       "      <td>2.000000</td>\n",
       "      <td>1.576920e+06</td>\n",
       "      <td>2.358180e+06</td>\n",
       "      <td>92.000000</td>\n",
       "      <td>32.000000</td>\n",
       "      <td>1.000000</td>\n",
       "    </tr>\n",
       "  </tbody>\n",
       "</table>\n",
       "</div>"
      ],
      "text/plain": [
       "            loan_id          age    education   loan_amount    asset_cost  \\\n",
       "count   3000.000000  3000.000000  3000.000000  3.000000e+03  3.000000e+03   \n",
       "mean    8500.500000    36.111000     1.577000  6.629294e+05  9.106000e+05   \n",
       "std      866.169729     7.467347     0.494118  1.451009e+05  2.070278e+05   \n",
       "min     7001.000000    21.000000     1.000000  1.696800e+05  4.706040e+05   \n",
       "25%     7750.750000    30.000000     1.000000  5.801880e+05  7.930710e+05   \n",
       "50%     8500.500000    36.000000     2.000000  6.541560e+05  8.569080e+05   \n",
       "75%     9250.250000    42.000000     2.000000  7.315590e+05  9.501360e+05   \n",
       "max    10000.000000    50.000000     2.000000  1.576920e+06  2.358180e+06   \n",
       "\n",
       "       no_of_loans  no_of_curr_loans  last_delinq_none  \n",
       "count  3000.000000       3000.000000       3000.000000  \n",
       "mean      2.819000          1.374333          0.014333  \n",
       "std       5.329575          2.218825          0.118881  \n",
       "min       0.000000          0.000000          0.000000  \n",
       "25%       0.000000          0.000000          0.000000  \n",
       "50%       0.000000          0.000000          0.000000  \n",
       "75%       4.000000          2.000000          0.000000  \n",
       "max      92.000000         32.000000          1.000000  "
      ]
     },
     "execution_count": 119,
     "metadata": {},
     "output_type": "execute_result"
    }
   ],
   "source": [
    "# the describe() returns the statistical summary of the variables\n",
    "# by default, it returns the summary of all categorical variables as tere are no numerical variables in the dataset\n",
    "test_data.describe()"
   ]
  },
  {
   "cell_type": "code",
   "execution_count": 120,
   "id": "4ee89d4f-eb59-44ff-bf93-291e6b14f76a",
   "metadata": {},
   "outputs": [
    {
     "data": {
      "text/html": [
       "<div>\n",
       "<style scoped>\n",
       "    .dataframe tbody tr th:only-of-type {\n",
       "        vertical-align: middle;\n",
       "    }\n",
       "\n",
       "    .dataframe tbody tr th {\n",
       "        vertical-align: top;\n",
       "    }\n",
       "\n",
       "    .dataframe thead th {\n",
       "        text-align: right;\n",
       "    }\n",
       "</style>\n",
       "<table border=\"1\" class=\"dataframe\">\n",
       "  <thead>\n",
       "    <tr style=\"text-align: right;\">\n",
       "      <th></th>\n",
       "      <th>loan_id</th>\n",
       "      <th>age</th>\n",
       "      <th>education</th>\n",
       "      <th>loan_amount</th>\n",
       "      <th>asset_cost</th>\n",
       "      <th>no_of_loans</th>\n",
       "      <th>no_of_curr_loans</th>\n",
       "      <th>last_delinq_none</th>\n",
       "    </tr>\n",
       "  </thead>\n",
       "  <tbody>\n",
       "    <tr>\n",
       "      <th>loan_id</th>\n",
       "      <td>1.000000</td>\n",
       "      <td>-0.014092</td>\n",
       "      <td>-0.014754</td>\n",
       "      <td>0.019097</td>\n",
       "      <td>-0.005795</td>\n",
       "      <td>-0.028111</td>\n",
       "      <td>-0.043389</td>\n",
       "      <td>-0.028631</td>\n",
       "    </tr>\n",
       "    <tr>\n",
       "      <th>age</th>\n",
       "      <td>-0.014092</td>\n",
       "      <td>1.000000</td>\n",
       "      <td>0.040835</td>\n",
       "      <td>-0.096555</td>\n",
       "      <td>-0.155379</td>\n",
       "      <td>0.207797</td>\n",
       "      <td>0.184371</td>\n",
       "      <td>0.065067</td>\n",
       "    </tr>\n",
       "    <tr>\n",
       "      <th>education</th>\n",
       "      <td>-0.014754</td>\n",
       "      <td>0.040835</td>\n",
       "      <td>1.000000</td>\n",
       "      <td>-0.044132</td>\n",
       "      <td>0.062528</td>\n",
       "      <td>0.011815</td>\n",
       "      <td>-0.008203</td>\n",
       "      <td>0.023779</td>\n",
       "    </tr>\n",
       "    <tr>\n",
       "      <th>loan_amount</th>\n",
       "      <td>0.019097</td>\n",
       "      <td>-0.096555</td>\n",
       "      <td>-0.044132</td>\n",
       "      <td>1.000000</td>\n",
       "      <td>0.755070</td>\n",
       "      <td>0.017017</td>\n",
       "      <td>0.000398</td>\n",
       "      <td>0.022136</td>\n",
       "    </tr>\n",
       "    <tr>\n",
       "      <th>asset_cost</th>\n",
       "      <td>-0.005795</td>\n",
       "      <td>-0.155379</td>\n",
       "      <td>0.062528</td>\n",
       "      <td>0.755070</td>\n",
       "      <td>1.000000</td>\n",
       "      <td>-0.053028</td>\n",
       "      <td>-0.066999</td>\n",
       "      <td>0.002588</td>\n",
       "    </tr>\n",
       "    <tr>\n",
       "      <th>no_of_loans</th>\n",
       "      <td>-0.028111</td>\n",
       "      <td>0.207797</td>\n",
       "      <td>0.011815</td>\n",
       "      <td>0.017017</td>\n",
       "      <td>-0.053028</td>\n",
       "      <td>1.000000</td>\n",
       "      <td>0.738552</td>\n",
       "      <td>0.203031</td>\n",
       "    </tr>\n",
       "    <tr>\n",
       "      <th>no_of_curr_loans</th>\n",
       "      <td>-0.043389</td>\n",
       "      <td>0.184371</td>\n",
       "      <td>-0.008203</td>\n",
       "      <td>0.000398</td>\n",
       "      <td>-0.066999</td>\n",
       "      <td>0.738552</td>\n",
       "      <td>1.000000</td>\n",
       "      <td>0.242590</td>\n",
       "    </tr>\n",
       "    <tr>\n",
       "      <th>last_delinq_none</th>\n",
       "      <td>-0.028631</td>\n",
       "      <td>0.065067</td>\n",
       "      <td>0.023779</td>\n",
       "      <td>0.022136</td>\n",
       "      <td>0.002588</td>\n",
       "      <td>0.203031</td>\n",
       "      <td>0.242590</td>\n",
       "      <td>1.000000</td>\n",
       "    </tr>\n",
       "  </tbody>\n",
       "</table>\n",
       "</div>"
      ],
      "text/plain": [
       "                   loan_id       age  education  loan_amount  asset_cost  \\\n",
       "loan_id           1.000000 -0.014092  -0.014754     0.019097   -0.005795   \n",
       "age              -0.014092  1.000000   0.040835    -0.096555   -0.155379   \n",
       "education        -0.014754  0.040835   1.000000    -0.044132    0.062528   \n",
       "loan_amount       0.019097 -0.096555  -0.044132     1.000000    0.755070   \n",
       "asset_cost       -0.005795 -0.155379   0.062528     0.755070    1.000000   \n",
       "no_of_loans      -0.028111  0.207797   0.011815     0.017017   -0.053028   \n",
       "no_of_curr_loans -0.043389  0.184371  -0.008203     0.000398   -0.066999   \n",
       "last_delinq_none -0.028631  0.065067   0.023779     0.022136    0.002588   \n",
       "\n",
       "                  no_of_loans  no_of_curr_loans  last_delinq_none  \n",
       "loan_id             -0.028111         -0.043389         -0.028631  \n",
       "age                  0.207797          0.184371          0.065067  \n",
       "education            0.011815         -0.008203          0.023779  \n",
       "loan_amount          0.017017          0.000398          0.022136  \n",
       "asset_cost          -0.053028         -0.066999          0.002588  \n",
       "no_of_loans          1.000000          0.738552          0.203031  \n",
       "no_of_curr_loans     0.738552          1.000000          0.242590  \n",
       "last_delinq_none     0.203031          0.242590          1.000000  "
      ]
     },
     "execution_count": 120,
     "metadata": {},
     "output_type": "execute_result"
    }
   ],
   "source": [
    "#checking co-realation of data\n",
    "corelation=test_data.corr()\n",
    "corelation"
   ]
  },
  {
   "cell_type": "code",
   "execution_count": 121,
   "id": "2cb78c66-656c-4612-b069-c1acb4f8a22c",
   "metadata": {},
   "outputs": [
    {
     "data": {
      "image/png": "[encoded data removed]",
      "text/plain": [
       "<Figure size 2520x1800 with 2 Axes>"
      ]
     },
     "metadata": {
      "needs_background": "light"
     },
     "output_type": "display_data"
    }
   ],
   "source": [
    "#ploting correlation\n",
    "plt.figure(figsize = (35,25))\n",
    "sns.heatmap(corelation, annot = True, vmax = 1.0, vmin = -1.0, cmap = 'ocean_r', annot_kws = {\"size\": 11.5})\n",
    "plt.show()"
   ]
  },
  {
   "cell_type": "code",
   "execution_count": 122,
   "id": "7a3239ba-bec1-474a-a1c1-8009969be133",
   "metadata": {},
   "outputs": [
    {
     "data": {
      "text/plain": [
       "0    7001\n",
       "1    7002\n",
       "2    7003\n",
       "3    7004\n",
       "4    7005\n",
       "Name: loan_id, dtype: int64"
      ]
     },
     "execution_count": 122,
     "metadata": {},
     "output_type": "execute_result"
    }
   ],
   "source": [
    "#saving loan id for display future prediction \n",
    "ID_prediction=test_data[\"loan_id\"]\n",
    "ID_prediction.head()"
   ]
  },
  {
   "cell_type": "code",
   "execution_count": 123,
   "id": "3b2513ad-123f-48bb-98a8-411d17491c1b",
   "metadata": {},
   "outputs": [],
   "source": [
    "#removing Unnecessary column from data set \n",
    "test_data=test_data.drop(['loan_id'],axis=1)"
   ]
  },
  {
   "cell_type": "code",
   "execution_count": 124,
   "id": "28c2f185-841d-4aa4-bdb7-7877f36505ae",
   "metadata": {},
   "outputs": [
    {
     "data": {
      "text/plain": [
       "Index(['age', 'education', 'loan_amount', 'asset_cost', 'no_of_loans',\n",
       "       'no_of_curr_loans', 'last_delinq_none'],\n",
       "      dtype='object')"
      ]
     },
     "execution_count": 124,
     "metadata": {},
     "output_type": "execute_result"
    }
   ],
   "source": [
    "#checking numeric features\n",
    "numeric_fea = test_data.select_dtypes(include=np.number)\n",
    "numeric_fea.columns"
   ]
  },
  {
   "cell_type": "code",
   "execution_count": 125,
   "id": "985880dc-1eeb-4501-bc4f-e768e0ea78e6",
   "metadata": {},
   "outputs": [
    {
     "data": {
      "text/plain": [
       "Index(['proof_submitted'], dtype='object')"
      ]
     },
     "execution_count": 125,
     "metadata": {},
     "output_type": "execute_result"
    }
   ],
   "source": [
    "#checking catagorical features\n",
    "categoric = test_data.select_dtypes(include = object)\n",
    "categoric.columns"
   ]
  },
  {
   "cell_type": "code",
   "execution_count": 126,
   "id": "764ec6ad-e322-41c1-bd07-74bbf36f62ae",
   "metadata": {},
   "outputs": [],
   "source": [
    "#making encoding for changing catagoricl values to numerical using dummy encoding\n",
    "dummy_encoded = pd.get_dummies(categoric, drop_first = True)"
   ]
  },
  {
   "cell_type": "code",
   "execution_count": 129,
   "id": "d5459b69-b348-4cf5-9b4b-e300d583aba3",
   "metadata": {},
   "outputs": [
    {
     "data": {
      "text/html": [
       "<div>\n",
       "<style scoped>\n",
       "    .dataframe tbody tr th:only-of-type {\n",
       "        vertical-align: middle;\n",
       "    }\n",
       "\n",
       "    .dataframe tbody tr th {\n",
       "        vertical-align: top;\n",
       "    }\n",
       "\n",
       "    .dataframe thead th {\n",
       "        text-align: right;\n",
       "    }\n",
       "</style>\n",
       "<table border=\"1\" class=\"dataframe\">\n",
       "  <thead>\n",
       "    <tr style=\"text-align: right;\">\n",
       "      <th></th>\n",
       "      <th>age</th>\n",
       "      <th>education</th>\n",
       "      <th>loan_amount</th>\n",
       "      <th>asset_cost</th>\n",
       "      <th>no_of_loans</th>\n",
       "      <th>no_of_curr_loans</th>\n",
       "      <th>last_delinq_none</th>\n",
       "      <th>proof_submitted_Driving</th>\n",
       "      <th>proof_submitted_PAN</th>\n",
       "      <th>proof_submitted_Passport</th>\n",
       "      <th>proof_submitted_VoterID</th>\n",
       "    </tr>\n",
       "  </thead>\n",
       "  <tbody>\n",
       "    <tr>\n",
       "      <th>0</th>\n",
       "      <td>29</td>\n",
       "      <td>1.0</td>\n",
       "      <td>636936</td>\n",
       "      <td>768240</td>\n",
       "      <td>2</td>\n",
       "      <td>2</td>\n",
       "      <td>0</td>\n",
       "      <td>0</td>\n",
       "      <td>0</td>\n",
       "      <td>0</td>\n",
       "      <td>0</td>\n",
       "    </tr>\n",
       "    <tr>\n",
       "      <th>1</th>\n",
       "      <td>28</td>\n",
       "      <td>1.0</td>\n",
       "      <td>548988</td>\n",
       "      <td>693060</td>\n",
       "      <td>3</td>\n",
       "      <td>3</td>\n",
       "      <td>0</td>\n",
       "      <td>0</td>\n",
       "      <td>0</td>\n",
       "      <td>0</td>\n",
       "      <td>0</td>\n",
       "    </tr>\n",
       "    <tr>\n",
       "      <th>2</th>\n",
       "      <td>28</td>\n",
       "      <td>1.0</td>\n",
       "      <td>651756</td>\n",
       "      <td>936600</td>\n",
       "      <td>0</td>\n",
       "      <td>0</td>\n",
       "      <td>0</td>\n",
       "      <td>0</td>\n",
       "      <td>0</td>\n",
       "      <td>0</td>\n",
       "      <td>0</td>\n",
       "    </tr>\n",
       "    <tr>\n",
       "      <th>3</th>\n",
       "      <td>45</td>\n",
       "      <td>2.0</td>\n",
       "      <td>614676</td>\n",
       "      <td>744840</td>\n",
       "      <td>4</td>\n",
       "      <td>3</td>\n",
       "      <td>0</td>\n",
       "      <td>0</td>\n",
       "      <td>0</td>\n",
       "      <td>0</td>\n",
       "      <td>0</td>\n",
       "    </tr>\n",
       "    <tr>\n",
       "      <th>4</th>\n",
       "      <td>48</td>\n",
       "      <td>1.0</td>\n",
       "      <td>625236</td>\n",
       "      <td>839400</td>\n",
       "      <td>0</td>\n",
       "      <td>0</td>\n",
       "      <td>0</td>\n",
       "      <td>0</td>\n",
       "      <td>0</td>\n",
       "      <td>0</td>\n",
       "      <td>0</td>\n",
       "    </tr>\n",
       "  </tbody>\n",
       "</table>\n",
       "</div>"
      ],
      "text/plain": [
       "   age  education  loan_amount  asset_cost  no_of_loans  no_of_curr_loans  \\\n",
       "0   29        1.0       636936      768240            2                 2   \n",
       "1   28        1.0       548988      693060            3                 3   \n",
       "2   28        1.0       651756      936600            0                 0   \n",
       "3   45        2.0       614676      744840            4                 3   \n",
       "4   48        1.0       625236      839400            0                 0   \n",
       "\n",
       "   last_delinq_none  proof_submitted_Driving  proof_submitted_PAN  \\\n",
       "0                 0                        0                    0   \n",
       "1                 0                        0                    0   \n",
       "2                 0                        0                    0   \n",
       "3                 0                        0                    0   \n",
       "4                 0                        0                    0   \n",
       "\n",
       "   proof_submitted_Passport  proof_submitted_VoterID  \n",
       "0                         0                        0  \n",
       "1                         0                        0  \n",
       "2                         0                        0  \n",
       "3                         0                        0  \n",
       "4                         0                        0  "
      ]
     },
     "execution_count": 129,
     "metadata": {},
     "output_type": "execute_result"
    }
   ],
   "source": [
    "#joining the dummy encoded values and numeric values for future moddel building\n",
    "test_data_dummy = pd.concat([numeric_fea, dummy_encoded], axis=1)\n",
    "test_data_dummy.head()"
   ]
  },
  {
   "cell_type": "code",
   "execution_count": 130,
   "id": "7c8c4876-80ef-430d-b308-5a0c564e6748",
   "metadata": {},
   "outputs": [
    {
     "data": {
      "text/plain": [
       "(3000, 11)"
      ]
     },
     "execution_count": 130,
     "metadata": {},
     "output_type": "execute_result"
    }
   ],
   "source": [
    "#checking shape\n",
    "test_data_dummy.shape"
   ]
  },
  {
   "cell_type": "code",
   "execution_count": 131,
   "id": "c842d713-18d5-4c0f-8802-a116b3d1d99f",
   "metadata": {},
   "outputs": [
    {
     "data": {
      "text/plain": [
       "array([0, 0, 0, ..., 0, 1, 0], dtype=int64)"
      ]
     },
     "execution_count": 131,
     "metadata": {},
     "output_type": "execute_result"
    }
   ],
   "source": [
    "#pridiction of globle sales for test data using random forest hypertuned model\n",
    "loan_default_predictions = rfgridcv.predict(test_data_dummy)\n",
    "loan_default_predictions"
   ]
  },
  {
   "cell_type": "code",
   "execution_count": 132,
   "id": "80d72df9-18c0-498e-8b57-ab296a69c495",
   "metadata": {},
   "outputs": [],
   "source": [
    "#creating the dataframe for predicted values\n",
    "df = pd.DataFrame(loan_default_predictions)\n",
    "df.rename({0:\"loan_default\"},inplace =True,axis=1)"
   ]
  },
  {
   "cell_type": "code",
   "execution_count": 133,
   "id": "26f5eaf4-cb55-47ce-a532-b1b80c194e1a",
   "metadata": {},
   "outputs": [
    {
     "data": {
      "text/html": [
       "<div>\n",
       "<style scoped>\n",
       "    .dataframe tbody tr th:only-of-type {\n",
       "        vertical-align: middle;\n",
       "    }\n",
       "\n",
       "    .dataframe tbody tr th {\n",
       "        vertical-align: top;\n",
       "    }\n",
       "\n",
       "    .dataframe thead th {\n",
       "        text-align: right;\n",
       "    }\n",
       "</style>\n",
       "<table border=\"1\" class=\"dataframe\">\n",
       "  <thead>\n",
       "    <tr style=\"text-align: right;\">\n",
       "      <th></th>\n",
       "      <th>loan_id</th>\n",
       "      <th>loan_default</th>\n",
       "    </tr>\n",
       "  </thead>\n",
       "  <tbody>\n",
       "    <tr>\n",
       "      <th>0</th>\n",
       "      <td>7001</td>\n",
       "      <td>0</td>\n",
       "    </tr>\n",
       "    <tr>\n",
       "      <th>1</th>\n",
       "      <td>7002</td>\n",
       "      <td>0</td>\n",
       "    </tr>\n",
       "    <tr>\n",
       "      <th>2</th>\n",
       "      <td>7003</td>\n",
       "      <td>0</td>\n",
       "    </tr>\n",
       "    <tr>\n",
       "      <th>3</th>\n",
       "      <td>7004</td>\n",
       "      <td>0</td>\n",
       "    </tr>\n",
       "    <tr>\n",
       "      <th>4</th>\n",
       "      <td>7005</td>\n",
       "      <td>0</td>\n",
       "    </tr>\n",
       "    <tr>\n",
       "      <th>...</th>\n",
       "      <td>...</td>\n",
       "      <td>...</td>\n",
       "    </tr>\n",
       "    <tr>\n",
       "      <th>2995</th>\n",
       "      <td>9996</td>\n",
       "      <td>0</td>\n",
       "    </tr>\n",
       "    <tr>\n",
       "      <th>2996</th>\n",
       "      <td>9997</td>\n",
       "      <td>1</td>\n",
       "    </tr>\n",
       "    <tr>\n",
       "      <th>2997</th>\n",
       "      <td>9998</td>\n",
       "      <td>0</td>\n",
       "    </tr>\n",
       "    <tr>\n",
       "      <th>2998</th>\n",
       "      <td>9999</td>\n",
       "      <td>1</td>\n",
       "    </tr>\n",
       "    <tr>\n",
       "      <th>2999</th>\n",
       "      <td>10000</td>\n",
       "      <td>0</td>\n",
       "    </tr>\n",
       "  </tbody>\n",
       "</table>\n",
       "<p>3000 rows × 2 columns</p>\n",
       "</div>"
      ],
      "text/plain": [
       "      loan_id  loan_default\n",
       "0        7001             0\n",
       "1        7002             0\n",
       "2        7003             0\n",
       "3        7004             0\n",
       "4        7005             0\n",
       "...       ...           ...\n",
       "2995     9996             0\n",
       "2996     9997             1\n",
       "2997     9998             0\n",
       "2998     9999             1\n",
       "2999    10000             0\n",
       "\n",
       "[3000 rows x 2 columns]"
      ]
     },
     "execution_count": 133,
     "metadata": {},
     "output_type": "execute_result"
    }
   ],
   "source": [
    "# joining the predicted values with loan Id\n",
    "dataframe  = pd.DataFrame()\n",
    "dataframe = pd.concat([ID_prediction.reset_index(drop=True),df.reset_index(drop=True)],axis=1)\n",
    "dataframe"
   ]
  },
  {
   "cell_type": "code",
   "execution_count": 134,
   "id": "64d23862-dfbd-4bb4-a9b3-a014909e911e",
   "metadata": {},
   "outputs": [],
   "source": [
    "#save the file into csv file\n",
    "dataframe.to_csv(\"loan_default_prediction.csv\",index=False)"
   ]
  },
  {
   "cell_type": "code",
   "execution_count": null,
   "id": "f2879e5b-7979-422c-a524-75c54047b329",
   "metadata": {},
   "outputs": [],
   "source": []
  },
  {
   "cell_type": "code",
   "execution_count": null,
   "id": "d5dfb8f8-aada-4f2b-a730-49cbd7026962",
   "metadata": {},
   "outputs": [],
   "source": []
  }
 ],
 "metadata": {
  "kernelspec": {
   "display_name": "Python 3 (ipykernel)",
   "language": "python",
   "name": "python3"
  },
  "language_info": {
   "codemirror_mode": {
    "name": "ipython",
    "version": 3
   },
   "file_extension": ".py",
   "mimetype": "text/x-python",
   "name": "python",
   "nbconvert_exporter": "python",
   "pygments_lexer": "ipython3",
   "version": "3.10.1"
  }
 },
 "nbformat": 4,
 "nbformat_minor": 5
}
